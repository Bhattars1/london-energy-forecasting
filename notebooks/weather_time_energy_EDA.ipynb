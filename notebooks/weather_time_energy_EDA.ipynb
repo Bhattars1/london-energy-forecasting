{
  "cells": [
    {
      "cell_type": "markdown",
      "metadata": {
        "id": "6fdCEw_QI3d4"
      },
      "source": [
        "# Merge and EDA of weather-energy datasets"
      ]
    },
    {
      "cell_type": "markdown",
      "metadata": {
        "id": "8gSxVhtAI_Ex"
      },
      "source": [
        "# 1. import and check"
      ]
    },
    {
      "cell_type": "code",
      "execution_count": 3,
      "metadata": {
        "id": "gnheUrg0FFYO"
      },
      "outputs": [],
      "source": [
        "import pandas as pd"
      ]
    },
    {
      "cell_type": "code",
      "execution_count": 4,
      "metadata": {
        "id": "gtj_ahHDFjGI"
      },
      "outputs": [],
      "source": [
        "energy_data = pd.read_csv('../data/processed data/processed_energy_data.csv')\n",
        "weather_data = pd.read_csv('../data/processed data/processed_weather_data.csv')"
      ]
    },
    {
      "cell_type": "code",
      "execution_count": 5,
      "metadata": {
        "colab": {
          "base_uri": "https://localhost:8080/",
          "height": 143
        },
        "id": "61K9Xik3HgJs",
        "outputId": "290b442b-a1f0-4688-bc1b-5f355fc0ff23"
      },
      "outputs": [
        {
          "data": {
            "text/html": [
              "<div>\n",
              "<style scoped>\n",
              "    .dataframe tbody tr th:only-of-type {\n",
              "        vertical-align: middle;\n",
              "    }\n",
              "\n",
              "    .dataframe tbody tr th {\n",
              "        vertical-align: top;\n",
              "    }\n",
              "\n",
              "    .dataframe thead th {\n",
              "        text-align: right;\n",
              "    }\n",
              "</style>\n",
              "<table border=\"1\" class=\"dataframe\">\n",
              "  <thead>\n",
              "    <tr style=\"text-align: right;\">\n",
              "      <th></th>\n",
              "      <th>date</th>\n",
              "      <th>mean_consumption</th>\n",
              "      <th>median_consumption</th>\n",
              "      <th>std_consumption</th>\n",
              "      <th>day</th>\n",
              "      <th>holiday</th>\n",
              "    </tr>\n",
              "  </thead>\n",
              "  <tbody>\n",
              "    <tr>\n",
              "      <th>0</th>\n",
              "      <td>2011-11-23</td>\n",
              "      <td>7.063833</td>\n",
              "      <td>6.2460</td>\n",
              "      <td>5.373299</td>\n",
              "      <td>2</td>\n",
              "      <td>0</td>\n",
              "    </tr>\n",
              "    <tr>\n",
              "      <th>1</th>\n",
              "      <td>2011-11-24</td>\n",
              "      <td>8.426043</td>\n",
              "      <td>7.4890</td>\n",
              "      <td>6.219456</td>\n",
              "      <td>3</td>\n",
              "      <td>0</td>\n",
              "    </tr>\n",
              "    <tr>\n",
              "      <th>2</th>\n",
              "      <td>2011-11-25</td>\n",
              "      <td>9.350267</td>\n",
              "      <td>8.7385</td>\n",
              "      <td>6.377867</td>\n",
              "      <td>4</td>\n",
              "      <td>0</td>\n",
              "    </tr>\n",
              "  </tbody>\n",
              "</table>\n",
              "</div>"
            ],
            "text/plain": [
              "         date  mean_consumption  median_consumption  std_consumption  day  \\\n",
              "0  2011-11-23          7.063833              6.2460         5.373299    2   \n",
              "1  2011-11-24          8.426043              7.4890         6.219456    3   \n",
              "2  2011-11-25          9.350267              8.7385         6.377867    4   \n",
              "\n",
              "   holiday  \n",
              "0        0  \n",
              "1        0  \n",
              "2        0  "
            ]
          },
          "execution_count": 5,
          "metadata": {},
          "output_type": "execute_result"
        }
      ],
      "source": [
        "energy_data.head(3)"
      ]
    },
    {
      "cell_type": "code",
      "execution_count": 6,
      "metadata": {},
      "outputs": [
        {
          "data": {
            "text/html": [
              "<div>\n",
              "<style scoped>\n",
              "    .dataframe tbody tr th:only-of-type {\n",
              "        vertical-align: middle;\n",
              "    }\n",
              "\n",
              "    .dataframe tbody tr th {\n",
              "        vertical-align: top;\n",
              "    }\n",
              "\n",
              "    .dataframe thead th {\n",
              "        text-align: right;\n",
              "    }\n",
              "</style>\n",
              "<table border=\"1\" class=\"dataframe\">\n",
              "  <thead>\n",
              "    <tr style=\"text-align: right;\">\n",
              "      <th></th>\n",
              "      <th>ob_time</th>\n",
              "      <th>wind_direction</th>\n",
              "      <th>wind_speed</th>\n",
              "      <th>air_temperature</th>\n",
              "      <th>dewpoint</th>\n",
              "      <th>rltv_hum</th>\n",
              "      <th>prcp_amt</th>\n",
              "    </tr>\n",
              "  </thead>\n",
              "  <tbody>\n",
              "    <tr>\n",
              "      <th>0</th>\n",
              "      <td>2011-11-23 00:00:00</td>\n",
              "      <td>270.0</td>\n",
              "      <td>1.0</td>\n",
              "      <td>4.6</td>\n",
              "      <td>4.0</td>\n",
              "      <td>95.2</td>\n",
              "      <td>0.0</td>\n",
              "    </tr>\n",
              "    <tr>\n",
              "      <th>1</th>\n",
              "      <td>2011-11-23 01:00:00</td>\n",
              "      <td>320.0</td>\n",
              "      <td>1.0</td>\n",
              "      <td>3.6</td>\n",
              "      <td>3.1</td>\n",
              "      <td>96.6</td>\n",
              "      <td>0.0</td>\n",
              "    </tr>\n",
              "    <tr>\n",
              "      <th>2</th>\n",
              "      <td>2011-11-23 02:00:00</td>\n",
              "      <td>310.0</td>\n",
              "      <td>2.0</td>\n",
              "      <td>3.7</td>\n",
              "      <td>3.3</td>\n",
              "      <td>96.6</td>\n",
              "      <td>0.0</td>\n",
              "    </tr>\n",
              "    <tr>\n",
              "      <th>3</th>\n",
              "      <td>2011-11-23 03:00:00</td>\n",
              "      <td>280.0</td>\n",
              "      <td>2.0</td>\n",
              "      <td>4.5</td>\n",
              "      <td>4.2</td>\n",
              "      <td>98.3</td>\n",
              "      <td>0.0</td>\n",
              "    </tr>\n",
              "    <tr>\n",
              "      <th>4</th>\n",
              "      <td>2011-11-23 04:00:00</td>\n",
              "      <td>240.0</td>\n",
              "      <td>2.0</td>\n",
              "      <td>2.4</td>\n",
              "      <td>2.0</td>\n",
              "      <td>96.4</td>\n",
              "      <td>0.0</td>\n",
              "    </tr>\n",
              "  </tbody>\n",
              "</table>\n",
              "</div>"
            ],
            "text/plain": [
              "               ob_time  wind_direction  wind_speed  air_temperature  dewpoint  \\\n",
              "0  2011-11-23 00:00:00           270.0         1.0              4.6       4.0   \n",
              "1  2011-11-23 01:00:00           320.0         1.0              3.6       3.1   \n",
              "2  2011-11-23 02:00:00           310.0         2.0              3.7       3.3   \n",
              "3  2011-11-23 03:00:00           280.0         2.0              4.5       4.2   \n",
              "4  2011-11-23 04:00:00           240.0         2.0              2.4       2.0   \n",
              "\n",
              "   rltv_hum  prcp_amt  \n",
              "0      95.2       0.0  \n",
              "1      96.6       0.0  \n",
              "2      96.6       0.0  \n",
              "3      98.3       0.0  \n",
              "4      96.4       0.0  "
            ]
          },
          "execution_count": 6,
          "metadata": {},
          "output_type": "execute_result"
        }
      ],
      "source": [
        "weather_data.head()"
      ]
    },
    {
      "cell_type": "code",
      "execution_count": null,
      "metadata": {},
      "outputs": [],
      "source": []
    },
    {
      "cell_type": "code",
      "execution_count": 7,
      "metadata": {
        "id": "6D7zFD6zMsAo"
      },
      "outputs": [],
      "source": [
        "weather_data[\"ob_time\"] = pd.to_datetime(weather_data[\"ob_time\"])"
      ]
    },
    {
      "cell_type": "code",
      "execution_count": 8,
      "metadata": {
        "id": "w3mPKOqXMwkw"
      },
      "outputs": [],
      "source": [
        "energy_data[\"date\"] = pd.to_datetime(energy_data[\"date\"])"
      ]
    },
    {
      "cell_type": "markdown",
      "metadata": {
        "id": "2G0DSoRnI14k"
      },
      "source": [
        "# 2. Merging weather and energy data"
      ]
    },
    {
      "cell_type": "code",
      "execution_count": 9,
      "metadata": {
        "colab": {
          "base_uri": "https://localhost:8080/"
        },
        "id": "HupCUkr-MeQY",
        "outputId": "136f60fd-57ce-403d-8253-9395e910b11a"
      },
      "outputs": [
        {
          "data": {
            "text/plain": [
              "(Timestamp('2011-11-23 00:00:00'), Timestamp('2014-02-27 23:00:00'))"
            ]
          },
          "execution_count": 9,
          "metadata": {},
          "output_type": "execute_result"
        }
      ],
      "source": [
        "min(weather_data['ob_time']), max(weather_data['ob_time'])"
      ]
    },
    {
      "cell_type": "code",
      "execution_count": 10,
      "metadata": {
        "colab": {
          "base_uri": "https://localhost:8080/"
        },
        "id": "vWTYHYzaM7cg",
        "outputId": "05f4aa8b-889f-4d2d-cb5d-7fa5b64eea1a"
      },
      "outputs": [
        {
          "data": {
            "text/plain": [
              "(Timestamp('2011-11-23 00:00:00'), Timestamp('2014-02-27 00:00:00'))"
            ]
          },
          "execution_count": 10,
          "metadata": {},
          "output_type": "execute_result"
        }
      ],
      "source": [
        "min(energy_data['date']), max(energy_data['date'])"
      ]
    },
    {
      "cell_type": "code",
      "execution_count": 11,
      "metadata": {
        "id": "CMmm4f3WNMeA"
      },
      "outputs": [],
      "source": [
        "energy_data= energy_data.iloc[:-1]"
      ]
    },
    {
      "cell_type": "code",
      "execution_count": 12,
      "metadata": {
        "colab": {
          "base_uri": "https://localhost:8080/"
        },
        "id": "M5RoRpmkIx3V",
        "outputId": "242b469c-01cc-4d6b-8677-404cb9b6586b"
      },
      "outputs": [
        {
          "data": {
            "text/plain": [
              "(19872, 827)"
            ]
          },
          "execution_count": 12,
          "metadata": {},
          "output_type": "execute_result"
        }
      ],
      "source": [
        "len(weather_data), len(energy_data)"
      ]
    },
    {
      "cell_type": "code",
      "execution_count": 13,
      "metadata": {
        "colab": {
          "base_uri": "https://localhost:8080/"
        },
        "id": "F3KcSi3xNEyk",
        "outputId": "ed64f0e9-f050-452c-b06c-9c9f18146ad2"
      },
      "outputs": [
        {
          "data": {
            "text/plain": [
              "(828.0, 827)"
            ]
          },
          "execution_count": 13,
          "metadata": {},
          "output_type": "execute_result"
        }
      ],
      "source": [
        "# this length difference is because the weather data consits of data points of every hours\n",
        "# So if we divide the length of weather data by 24 then, the dataset length must be equal\n",
        "len(weather_data)/24, len(energy_data)"
      ]
    },
    {
      "cell_type": "markdown",
      "metadata": {
        "id": "AgMxOvsJNb7I"
      },
      "source": [
        "We can't merge the datasets with diffrent lengths or different time format\n",
        "Instead what seems to be best is do some aggregration and feature engineering on the weather data per day\n",
        "To make it daily weather data from hourly data. for that, each of the parameters are engineered based on their nature\n",
        "\n",
        "There are following parameters in weather data:\n",
        "1. Time\n",
        "2. Wind direction\n",
        "3. Wind speed\n",
        "4. Air temperature\n",
        "5. Dewpoint\n",
        "6. Relative humidity\n",
        "7. Precipation amount\n",
        "\n",
        "The following are the features that will be extracted from parameters:\n",
        "1. **Mean**: wind speed, air temperature, dewpoint and relative humidity\n",
        "2. **Median**: wind speed, air temperature, dewpoint and relative humidity\n",
        "3. **Standard deviation**: wind speed, air temperature, dewpoint and relative humidity\n",
        "4. **Minimum and Maximum**: wind speed, air temperature, dewpoint and relative humidity\n",
        "5. **Sum**: Precipation\n",
        "6. **Count > 0**: Precipation (This is for number of hours of precipation per day)\n",
        "7. **Categorical feature**: For wind direction, which is categorical feature, the data in degrees will be convert to directions (E, W, N, S, NE, NW, SE, SW), and then the mode of the direction will be calculated to determine from which direction the wind is very frequent in a day"
      ]
    },
    {
      "cell_type": "code",
      "execution_count": 14,
      "metadata": {
        "id": "z2dqJMeENxUs"
      },
      "outputs": [],
      "source": [
        "# Function to convert wind direction degrees to compass directions\n",
        "def get_wind_direction(degree):\n",
        "    degree = float(degree)\n",
        "    if degree >= 0 and degree < 22.5:\n",
        "        return 'N'\n",
        "    elif degree >= 22.5 and degree < 67.5:\n",
        "        return 'NE'\n",
        "    elif degree >= 67.5 and degree < 112.5:\n",
        "        return 'E'\n",
        "    elif degree >= 112.5 and degree < 157.5:\n",
        "        return 'SE'\n",
        "    elif degree >= 157.5 and degree < 202.5:\n",
        "        return 'S'\n",
        "    elif degree >= 202.5 and degree < 247.5:\n",
        "        return 'SW'\n",
        "    elif degree >= 247.5 and degree < 292.5:\n",
        "        return 'W'\n",
        "    elif degree >= 292.5 and degree < 337.5:\n",
        "        return 'NW'\n",
        "    else:\n",
        "        return 'N'\n",
        "\n",
        "# Function to aggregate weather data\n",
        "def aggregate_weather_data(weather_df):\n",
        "    # Convert 'ob_time' to datetime and extract the date\n",
        "    weather_df['ob_time'] = pd.to_datetime(weather_df['ob_time'])\n",
        "    weather_df['date'] = weather_df['ob_time'].dt.date\n",
        "\n",
        "    # Convert wind direction degrees to compass directions\n",
        "    weather_df['wind_direction'] = weather_df['wind_direction'].apply(get_wind_direction)\n",
        "\n",
        "    # Aggregate features per day\n",
        "    aggregated_df = weather_df.groupby('date').agg(\n",
        "        wind_speed_mean=('wind_speed', 'mean'),\n",
        "        air_temperature_mean=('air_temperature', 'mean'),\n",
        "        dewpoint_mean=('dewpoint', 'mean'),\n",
        "        rltv_hum_mean=('rltv_hum', 'mean'),\n",
        "\n",
        "        wind_speed_median=('wind_speed', 'median'),\n",
        "        air_temperature_median=('air_temperature', 'median'),\n",
        "        dewpoint_median=('dewpoint', 'median'),\n",
        "        rltv_hum_median=('rltv_hum', 'median'),\n",
        "\n",
        "        wind_speed_std=('wind_speed', 'std'),\n",
        "        air_temperature_std=('air_temperature', 'std'),\n",
        "        dewpoint_std=('dewpoint', 'std'),\n",
        "        rltv_hum_std=('rltv_hum', 'std'),\n",
        "\n",
        "        wind_speed_min=('wind_speed', 'min'),\n",
        "        air_temperature_min=('air_temperature', 'min'),\n",
        "        dewpoint_min=('dewpoint', 'min'),\n",
        "        rltv_hum_min=('rltv_hum', 'min'),\n",
        "\n",
        "        wind_speed_max=('wind_speed', 'max'),\n",
        "        air_temperature_max=('air_temperature', 'max'),\n",
        "        dewpoint_max=('dewpoint', 'max'),\n",
        "        rltv_hum_max=('rltv_hum', 'max'),\n",
        "\n",
        "        prcp_sum=('prcp_amt', 'sum'),\n",
        "        prcp_count=('prcp_amt', lambda x: (x > 0).sum()),  # Count hours of precipitation\n",
        "        wind_direction_mode=('wind_direction', lambda x: x.mode()[0])  # Most frequent wind direction\n",
        "    ).reset_index()\n",
        "\n",
        "    return aggregated_df\n",
        "\n",
        "\n",
        "aggregated_weather = aggregate_weather_data(weather_data)"
      ]
    },
    {
      "cell_type": "code",
      "execution_count": 15,
      "metadata": {
        "colab": {
          "base_uri": "https://localhost:8080/"
        },
        "id": "XsV-R_IGYDt9",
        "outputId": "5e81d957-2575-48a4-99a4-e0855a40f51f"
      },
      "outputs": [
        {
          "name": "stdout",
          "output_type": "stream",
          "text": [
            "         date  wind_speed_mean  air_temperature_mean  dewpoint_mean  \\\n",
            "0  2011-11-23         2.125000              5.925000       5.208333   \n",
            "1  2011-11-24         4.333333              9.670833       8.041667   \n",
            "2  2011-11-25         6.083333             10.541667       6.891667   \n",
            "\n",
            "   rltv_hum_mean  wind_speed_median  air_temperature_median  dewpoint_median  \\\n",
            "0      95.250000                2.0                    6.15             5.95   \n",
            "1      90.112500                4.0                    9.25             7.90   \n",
            "2      78.779167                6.0                   11.45             5.65   \n",
            "\n",
            "   rltv_hum_median  wind_speed_std  ...  air_temperature_min  dewpoint_min  \\\n",
            "0             97.0        0.612372  ...                  2.4           2.0   \n",
            "1             90.2        1.711004  ...                  6.1           5.9   \n",
            "2             83.6        2.185260  ...                  6.1           4.1   \n",
            "\n",
            "   rltv_hum_min  wind_speed_max  air_temperature_max  dewpoint_max  \\\n",
            "0          82.3             3.0                 10.6           7.8   \n",
            "1          74.5             7.0                 13.6          10.4   \n",
            "2          59.8            10.0                 13.0          11.6   \n",
            "\n",
            "   rltv_hum_max  prcp_sum  prcp_count  wind_direction_mode  \n",
            "0          98.6       0.0           0                   SW  \n",
            "1          98.6       0.4           2                    S  \n",
            "2          94.0       0.4           2                    W  \n",
            "\n",
            "[3 rows x 24 columns]\n"
          ]
        }
      ],
      "source": [
        "print(aggregated_weather.head(3))"
      ]
    },
    {
      "cell_type": "code",
      "execution_count": 16,
      "metadata": {
        "colab": {
          "base_uri": "https://localhost:8080/"
        },
        "id": "foBKG7YbYLeQ",
        "outputId": "e7a014c6-2245-493d-e2f1-1c3700f832aa"
      },
      "outputs": [
        {
          "data": {
            "text/plain": [
              "Index(['date', 'wind_speed_mean', 'air_temperature_mean', 'dewpoint_mean',\n",
              "       'rltv_hum_mean', 'wind_speed_median', 'air_temperature_median',\n",
              "       'dewpoint_median', 'rltv_hum_median', 'wind_speed_std',\n",
              "       'air_temperature_std', 'dewpoint_std', 'rltv_hum_std', 'wind_speed_min',\n",
              "       'air_temperature_min', 'dewpoint_min', 'rltv_hum_min', 'wind_speed_max',\n",
              "       'air_temperature_max', 'dewpoint_max', 'rltv_hum_max', 'prcp_sum',\n",
              "       'prcp_count', 'wind_direction_mode'],\n",
              "      dtype='object')"
            ]
          },
          "execution_count": 16,
          "metadata": {},
          "output_type": "execute_result"
        }
      ],
      "source": [
        "aggregated_weather.columns"
      ]
    },
    {
      "cell_type": "code",
      "execution_count": 17,
      "metadata": {
        "colab": {
          "base_uri": "https://localhost:8080/"
        },
        "id": "0eDUL5cUYspo",
        "outputId": "744c5bda-dbd3-4a68-dcf8-fcca6b35ab88"
      },
      "outputs": [
        {
          "data": {
            "text/plain": [
              "828"
            ]
          },
          "execution_count": 17,
          "metadata": {},
          "output_type": "execute_result"
        }
      ],
      "source": [
        "len(aggregated_weather)"
      ]
    },
    {
      "cell_type": "code",
      "execution_count": 18,
      "metadata": {
        "colab": {
          "base_uri": "https://localhost:8080/",
          "height": 245
        },
        "id": "CIWCoMQqY-Pf",
        "outputId": "839b7274-6db0-41b7-a9ca-adae6353e88e"
      },
      "outputs": [
        {
          "data": {
            "text/html": [
              "<div>\n",
              "<style scoped>\n",
              "    .dataframe tbody tr th:only-of-type {\n",
              "        vertical-align: middle;\n",
              "    }\n",
              "\n",
              "    .dataframe tbody tr th {\n",
              "        vertical-align: top;\n",
              "    }\n",
              "\n",
              "    .dataframe thead th {\n",
              "        text-align: right;\n",
              "    }\n",
              "</style>\n",
              "<table border=\"1\" class=\"dataframe\">\n",
              "  <thead>\n",
              "    <tr style=\"text-align: right;\">\n",
              "      <th></th>\n",
              "      <th>date</th>\n",
              "      <th>wind_speed_mean</th>\n",
              "      <th>air_temperature_mean</th>\n",
              "      <th>dewpoint_mean</th>\n",
              "      <th>rltv_hum_mean</th>\n",
              "      <th>wind_speed_median</th>\n",
              "      <th>air_temperature_median</th>\n",
              "      <th>dewpoint_median</th>\n",
              "      <th>rltv_hum_median</th>\n",
              "      <th>wind_speed_std</th>\n",
              "      <th>...</th>\n",
              "      <th>dewpoint_max</th>\n",
              "      <th>rltv_hum_max</th>\n",
              "      <th>prcp_sum</th>\n",
              "      <th>prcp_count</th>\n",
              "      <th>wind_direction_mode</th>\n",
              "      <th>mean_consumption</th>\n",
              "      <th>median_consumption</th>\n",
              "      <th>std_consumption</th>\n",
              "      <th>day</th>\n",
              "      <th>holiday</th>\n",
              "    </tr>\n",
              "  </thead>\n",
              "  <tbody>\n",
              "    <tr>\n",
              "      <th>0</th>\n",
              "      <td>2011-11-23</td>\n",
              "      <td>2.125000</td>\n",
              "      <td>5.925000</td>\n",
              "      <td>5.208333</td>\n",
              "      <td>95.250000</td>\n",
              "      <td>2.0</td>\n",
              "      <td>6.15</td>\n",
              "      <td>5.95</td>\n",
              "      <td>97.0</td>\n",
              "      <td>0.612372</td>\n",
              "      <td>...</td>\n",
              "      <td>7.8</td>\n",
              "      <td>98.6</td>\n",
              "      <td>0.0</td>\n",
              "      <td>0</td>\n",
              "      <td>SW</td>\n",
              "      <td>7.063833</td>\n",
              "      <td>6.2460</td>\n",
              "      <td>5.373299</td>\n",
              "      <td>2</td>\n",
              "      <td>0</td>\n",
              "    </tr>\n",
              "    <tr>\n",
              "      <th>1</th>\n",
              "      <td>2011-11-24</td>\n",
              "      <td>4.333333</td>\n",
              "      <td>9.670833</td>\n",
              "      <td>8.041667</td>\n",
              "      <td>90.112500</td>\n",
              "      <td>4.0</td>\n",
              "      <td>9.25</td>\n",
              "      <td>7.90</td>\n",
              "      <td>90.2</td>\n",
              "      <td>1.711004</td>\n",
              "      <td>...</td>\n",
              "      <td>10.4</td>\n",
              "      <td>98.6</td>\n",
              "      <td>0.4</td>\n",
              "      <td>2</td>\n",
              "      <td>S</td>\n",
              "      <td>8.426043</td>\n",
              "      <td>7.4890</td>\n",
              "      <td>6.219456</td>\n",
              "      <td>3</td>\n",
              "      <td>0</td>\n",
              "    </tr>\n",
              "    <tr>\n",
              "      <th>2</th>\n",
              "      <td>2011-11-25</td>\n",
              "      <td>6.083333</td>\n",
              "      <td>10.541667</td>\n",
              "      <td>6.891667</td>\n",
              "      <td>78.779167</td>\n",
              "      <td>6.0</td>\n",
              "      <td>11.45</td>\n",
              "      <td>5.65</td>\n",
              "      <td>83.6</td>\n",
              "      <td>2.185260</td>\n",
              "      <td>...</td>\n",
              "      <td>11.6</td>\n",
              "      <td>94.0</td>\n",
              "      <td>0.4</td>\n",
              "      <td>2</td>\n",
              "      <td>W</td>\n",
              "      <td>9.350267</td>\n",
              "      <td>8.7385</td>\n",
              "      <td>6.377867</td>\n",
              "      <td>4</td>\n",
              "      <td>0</td>\n",
              "    </tr>\n",
              "  </tbody>\n",
              "</table>\n",
              "<p>3 rows × 29 columns</p>\n",
              "</div>"
            ],
            "text/plain": [
              "         date  wind_speed_mean  air_temperature_mean  dewpoint_mean  \\\n",
              "0  2011-11-23         2.125000              5.925000       5.208333   \n",
              "1  2011-11-24         4.333333              9.670833       8.041667   \n",
              "2  2011-11-25         6.083333             10.541667       6.891667   \n",
              "\n",
              "   rltv_hum_mean  wind_speed_median  air_temperature_median  dewpoint_median  \\\n",
              "0      95.250000                2.0                    6.15             5.95   \n",
              "1      90.112500                4.0                    9.25             7.90   \n",
              "2      78.779167                6.0                   11.45             5.65   \n",
              "\n",
              "   rltv_hum_median  wind_speed_std  ...  dewpoint_max  rltv_hum_max  prcp_sum  \\\n",
              "0             97.0        0.612372  ...           7.8          98.6       0.0   \n",
              "1             90.2        1.711004  ...          10.4          98.6       0.4   \n",
              "2             83.6        2.185260  ...          11.6          94.0       0.4   \n",
              "\n",
              "   prcp_count  wind_direction_mode  mean_consumption  median_consumption  \\\n",
              "0           0                   SW          7.063833              6.2460   \n",
              "1           2                    S          8.426043              7.4890   \n",
              "2           2                    W          9.350267              8.7385   \n",
              "\n",
              "   std_consumption  day  holiday  \n",
              "0         5.373299    2        0  \n",
              "1         6.219456    3        0  \n",
              "2         6.377867    4        0  \n",
              "\n",
              "[3 rows x 29 columns]"
            ]
          },
          "execution_count": 18,
          "metadata": {},
          "output_type": "execute_result"
        }
      ],
      "source": [
        "# Ensure that both 'date' columns are in datetime format\n",
        "energy_data['date'] = pd.to_datetime(energy_data['date']).dt.date\n",
        "aggregated_weather['date'] = pd.to_datetime(aggregated_weather['date']).dt.date\n",
        "\n",
        "# Merge the datasets on 'date' column\n",
        "merged_data = pd.merge(aggregated_weather, energy_data, on='date', how='inner')\n",
        "\n",
        "# Display the merged dataset\n",
        "merged_data.head(3)"
      ]
    },
    {
      "cell_type": "code",
      "execution_count": 19,
      "metadata": {
        "colab": {
          "base_uri": "https://localhost:8080/"
        },
        "id": "2nVyxpn4ZUbB",
        "outputId": "44115c43-7987-4d4a-bc1b-c9752d9793f9"
      },
      "outputs": [
        {
          "data": {
            "text/plain": [
              "Index(['date', 'wind_speed_mean', 'air_temperature_mean', 'dewpoint_mean',\n",
              "       'rltv_hum_mean', 'wind_speed_median', 'air_temperature_median',\n",
              "       'dewpoint_median', 'rltv_hum_median', 'wind_speed_std',\n",
              "       'air_temperature_std', 'dewpoint_std', 'rltv_hum_std', 'wind_speed_min',\n",
              "       'air_temperature_min', 'dewpoint_min', 'rltv_hum_min', 'wind_speed_max',\n",
              "       'air_temperature_max', 'dewpoint_max', 'rltv_hum_max', 'prcp_sum',\n",
              "       'prcp_count', 'wind_direction_mode', 'mean_consumption',\n",
              "       'median_consumption', 'std_consumption', 'day', 'holiday'],\n",
              "      dtype='object')"
            ]
          },
          "execution_count": 19,
          "metadata": {},
          "output_type": "execute_result"
        }
      ],
      "source": [
        "merged_data.columns"
      ]
    },
    {
      "cell_type": "code",
      "execution_count": 20,
      "metadata": {
        "colab": {
          "base_uri": "https://localhost:8080/"
        },
        "id": "eXpgoptXZ-Vm",
        "outputId": "bce8c440-faf9-42dc-8e86-e4df484bf9bc"
      },
      "outputs": [
        {
          "data": {
            "text/plain": [
              "29"
            ]
          },
          "execution_count": 20,
          "metadata": {},
          "output_type": "execute_result"
        }
      ],
      "source": [
        "len(merged_data.columns)"
      ]
    },
    {
      "cell_type": "markdown",
      "metadata": {
        "id": "vTStHN7laF6R"
      },
      "source": [
        "# 3. Explore the dataset"
      ]
    },
    {
      "cell_type": "code",
      "execution_count": null,
      "metadata": {},
      "outputs": [],
      "source": []
    },
    {
      "cell_type": "code",
      "execution_count": 21,
      "metadata": {
        "id": "TCbnEI5SaLkr"
      },
      "outputs": [],
      "source": [
        "# Fist correlation heatmap is plotted in order to narrow down investigatiom"
      ]
    },
    {
      "cell_type": "code",
      "execution_count": 22,
      "metadata": {
        "id": "fVaS80Tsau7_"
      },
      "outputs": [],
      "source": [
        "correlation_columns = ['wind_speed_mean', 'air_temperature_mean', 'dewpoint_mean',\n",
        "       'rltv_hum_mean', 'wind_speed_median', 'air_temperature_median',\n",
        "       'dewpoint_median', 'rltv_hum_median', 'wind_speed_std',\n",
        "       'air_temperature_std', 'dewpoint_std', 'rltv_hum_std', 'wind_speed_min',\n",
        "       'air_temperature_min', 'dewpoint_min', 'rltv_hum_min', 'wind_speed_max',\n",
        "       'air_temperature_max', 'dewpoint_max', 'rltv_hum_max', 'prcp_sum',\n",
        "       'prcp_count', 'mean_consumption',\n",
        "       'median_consumption', 'std_consumption']\n",
        "correlation_matrix_df = merged_data[correlation_columns]"
      ]
    },
    {
      "cell_type": "code",
      "execution_count": null,
      "metadata": {
        "colab": {
          "base_uri": "https://localhost:8080/",
          "height": 1000
        },
        "id": "DhEH0Sj4aT1u",
        "outputId": "0f3c289f-223d-4723-d1f3-3a3d1c116636"
      },
      "outputs": [],
      "source": [
        "import seaborn as sns\n",
        "import matplotlib.pyplot as plt\n",
        "\n",
        "# Calculate the correlation matrix\n",
        "correlation_matrix = correlation_matrix_df.corr()\n",
        "\n",
        "# Create the heatmap\n",
        "plt.figure(figsize=(25,16), dpi =300)  # Adjust the figure size for better readability\n",
        "sns.heatmap(correlation_matrix, annot=True, cmap='coolwarm', fmt='.2f', linewidths=0.5)\n",
        "\n",
        "# Display the plot\n",
        "plt.title('Correlation Heatmap of Merged Data')\n",
        "plt.show();\n"
      ]
    },
    {
      "cell_type": "code",
      "execution_count": null,
      "metadata": {
        "id": "kqqnekk8bOkp"
      },
      "outputs": [],
      "source": [
        "# Selecting the appropriate features that have potential of predicting the consumption by the correlation heatmap\n",
        "selected_features = ['date','air_temperature_mean', 'dewpoint_mean',\n",
        "       'rltv_hum_mean',\n",
        "       'air_temperature_min', 'rltv_hum_min', \n",
        "       'air_temperature_max',\n",
        "       'prcp_count', 'mean_consumption',\n",
        "       'median_consumption', 'std_consumption']"
      ]
    },
    {
      "cell_type": "code",
      "execution_count": null,
      "metadata": {},
      "outputs": [
        {
          "data": {
            "text/html": [
              "<div>\n",
              "<style scoped>\n",
              "    .dataframe tbody tr th:only-of-type {\n",
              "        vertical-align: middle;\n",
              "    }\n",
              "\n",
              "    .dataframe tbody tr th {\n",
              "        vertical-align: top;\n",
              "    }\n",
              "\n",
              "    .dataframe thead th {\n",
              "        text-align: right;\n",
              "    }\n",
              "</style>\n",
              "<table border=\"1\" class=\"dataframe\">\n",
              "  <thead>\n",
              "    <tr style=\"text-align: right;\">\n",
              "      <th></th>\n",
              "      <th>date</th>\n",
              "      <th>air_temperature_mean</th>\n",
              "      <th>dewpoint_mean</th>\n",
              "      <th>rltv_hum_mean</th>\n",
              "      <th>air_temperature_min</th>\n",
              "      <th>rltv_hum_min</th>\n",
              "      <th>air_temperature_max</th>\n",
              "      <th>prcp_count</th>\n",
              "      <th>mean_consumption</th>\n",
              "      <th>median_consumption</th>\n",
              "      <th>std_consumption</th>\n",
              "    </tr>\n",
              "  </thead>\n",
              "  <tbody>\n",
              "    <tr>\n",
              "      <th>0</th>\n",
              "      <td>2011-11-23</td>\n",
              "      <td>5.925000</td>\n",
              "      <td>5.208333</td>\n",
              "      <td>95.250000</td>\n",
              "      <td>2.4</td>\n",
              "      <td>82.3</td>\n",
              "      <td>10.6</td>\n",
              "      <td>0</td>\n",
              "      <td>7.063833</td>\n",
              "      <td>6.2460</td>\n",
              "      <td>5.373299</td>\n",
              "    </tr>\n",
              "    <tr>\n",
              "      <th>1</th>\n",
              "      <td>2011-11-24</td>\n",
              "      <td>9.670833</td>\n",
              "      <td>8.041667</td>\n",
              "      <td>90.112500</td>\n",
              "      <td>6.1</td>\n",
              "      <td>74.5</td>\n",
              "      <td>13.6</td>\n",
              "      <td>2</td>\n",
              "      <td>8.426043</td>\n",
              "      <td>7.4890</td>\n",
              "      <td>6.219456</td>\n",
              "    </tr>\n",
              "    <tr>\n",
              "      <th>2</th>\n",
              "      <td>2011-11-25</td>\n",
              "      <td>10.541667</td>\n",
              "      <td>6.891667</td>\n",
              "      <td>78.779167</td>\n",
              "      <td>6.1</td>\n",
              "      <td>59.8</td>\n",
              "      <td>13.0</td>\n",
              "      <td>2</td>\n",
              "      <td>9.350267</td>\n",
              "      <td>8.7385</td>\n",
              "      <td>6.377867</td>\n",
              "    </tr>\n",
              "    <tr>\n",
              "      <th>3</th>\n",
              "      <td>2011-11-26</td>\n",
              "      <td>9.416667</td>\n",
              "      <td>6.333333</td>\n",
              "      <td>81.745833</td>\n",
              "      <td>4.3</td>\n",
              "      <td>66.9</td>\n",
              "      <td>12.9</td>\n",
              "      <td>0</td>\n",
              "      <td>10.255256</td>\n",
              "      <td>9.4770</td>\n",
              "      <td>6.689567</td>\n",
              "    </tr>\n",
              "    <tr>\n",
              "      <th>4</th>\n",
              "      <td>2011-11-27</td>\n",
              "      <td>9.904167</td>\n",
              "      <td>5.004167</td>\n",
              "      <td>73.425000</td>\n",
              "      <td>0.5</td>\n",
              "      <td>46.8</td>\n",
              "      <td>13.9</td>\n",
              "      <td>0</td>\n",
              "      <td>10.946154</td>\n",
              "      <td>9.8030</td>\n",
              "      <td>7.351755</td>\n",
              "    </tr>\n",
              "  </tbody>\n",
              "</table>\n",
              "</div>"
            ],
            "text/plain": [
              "         date  air_temperature_mean  dewpoint_mean  rltv_hum_mean  \\\n",
              "0  2011-11-23              5.925000       5.208333      95.250000   \n",
              "1  2011-11-24              9.670833       8.041667      90.112500   \n",
              "2  2011-11-25             10.541667       6.891667      78.779167   \n",
              "3  2011-11-26              9.416667       6.333333      81.745833   \n",
              "4  2011-11-27              9.904167       5.004167      73.425000   \n",
              "\n",
              "   air_temperature_min  rltv_hum_min  air_temperature_max  prcp_count  \\\n",
              "0                  2.4          82.3                 10.6           0   \n",
              "1                  6.1          74.5                 13.6           2   \n",
              "2                  6.1          59.8                 13.0           2   \n",
              "3                  4.3          66.9                 12.9           0   \n",
              "4                  0.5          46.8                 13.9           0   \n",
              "\n",
              "   mean_consumption  median_consumption  std_consumption  \n",
              "0          7.063833              6.2460         5.373299  \n",
              "1          8.426043              7.4890         6.219456  \n",
              "2          9.350267              8.7385         6.377867  \n",
              "3         10.255256              9.4770         6.689567  \n",
              "4         10.946154              9.8030         7.351755  "
            ]
          },
          "execution_count": 23,
          "metadata": {},
          "output_type": "execute_result"
        }
      ],
      "source": [
        "feature_selected_data = merged_data[selected_features]\n",
        "feature_selected_data.head()"
      ]
    },
    {
      "cell_type": "code",
      "execution_count": null,
      "metadata": {},
      "outputs": [],
      "source": [
        "features = selected_features[:-3]\n",
        "targets = selected_features[-3:]"
      ]
    },
    {
      "cell_type": "code",
      "execution_count": null,
      "metadata": {},
      "outputs": [],
      "source": [
        "# # Visualizing the scatterplot of each features vs. each target\n",
        "# import matplotlib.pyplot as plt\n",
        "# for feature in features[1:]:\n",
        "#   for target in targets:\n",
        "#     plt.figure(figsize=(14, 6))\n",
        "#     plt.scatter(feature, target, data= feature_selected_data)\n",
        "#     plt.xlabel(feature)\n",
        "#     plt.ylabel(target)\n",
        "#     plt.title(f'{feature} vs {target}')\n",
        "#     plt.show();"
      ]
    },
    {
      "cell_type": "code",
      "execution_count": null,
      "metadata": {},
      "outputs": [],
      "source": [
        "feature_selected_data.loc[:,\"day\"] = energy_data[\"day\"].values\n",
        "feature_selected_data.loc[:,\"holiday\"] = energy_data[\"holiday\"].values\n"
      ]
    },
    {
      "cell_type": "code",
      "execution_count": null,
      "metadata": {},
      "outputs": [],
      "source": [
        "feature_selected_data.to_csv(\"../data/processed data/processed_data.csv\", index=False)"
      ]
    }
  ],
  "metadata": {
    "colab": {
      "provenance": []
    },
    "kernelspec": {
      "display_name": "Python 3",
      "name": "python3"
    },
    "language_info": {
      "codemirror_mode": {
        "name": "ipython",
        "version": 3
      },
      "file_extension": ".py",
      "mimetype": "text/x-python",
      "name": "python",
      "nbconvert_exporter": "python",
      "pygments_lexer": "ipython3",
      "version": "3.13.1"
    }
  },
  "nbformat": 4,
  "nbformat_minor": 0
}

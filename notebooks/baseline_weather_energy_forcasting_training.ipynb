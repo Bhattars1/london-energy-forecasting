{
  "cells": [
    {
      "cell_type": "code",
      "execution_count": null,
      "metadata": {
        "colab": {
          "base_uri": "https://localhost:8080/",
          "height": 313
        },
        "id": "byDV2A0VcyVY",
        "outputId": "517284d5-431d-44bb-db0d-769b840e8fc2"
      },
      "outputs": [
        {
          "data": {
            "text/html": [
              "<div>\n",
              "<style scoped>\n",
              "    .dataframe tbody tr th:only-of-type {\n",
              "        vertical-align: middle;\n",
              "    }\n",
              "\n",
              "    .dataframe tbody tr th {\n",
              "        vertical-align: top;\n",
              "    }\n",
              "\n",
              "    .dataframe thead th {\n",
              "        text-align: right;\n",
              "    }\n",
              "</style>\n",
              "<table border=\"1\" class=\"dataframe\">\n",
              "  <thead>\n",
              "    <tr style=\"text-align: right;\">\n",
              "      <th></th>\n",
              "      <th>date</th>\n",
              "      <th>air_temperature_mean</th>\n",
              "      <th>dewpoint_mean</th>\n",
              "      <th>rltv_hum_mean</th>\n",
              "      <th>air_temperature_min</th>\n",
              "      <th>rltv_hum_min</th>\n",
              "      <th>air_temperature_max</th>\n",
              "      <th>prcp_count</th>\n",
              "      <th>mean_consumption</th>\n",
              "      <th>median_consumption</th>\n",
              "      <th>std_consumption</th>\n",
              "      <th>day</th>\n",
              "      <th>holiday</th>\n",
              "    </tr>\n",
              "  </thead>\n",
              "  <tbody>\n",
              "    <tr>\n",
              "      <th>0</th>\n",
              "      <td>2011-11-23</td>\n",
              "      <td>5.925000</td>\n",
              "      <td>5.208333</td>\n",
              "      <td>95.250000</td>\n",
              "      <td>2.4</td>\n",
              "      <td>82.3</td>\n",
              "      <td>10.6</td>\n",
              "      <td>0</td>\n",
              "      <td>7.063833</td>\n",
              "      <td>6.2460</td>\n",
              "      <td>5.373299</td>\n",
              "      <td>2</td>\n",
              "      <td>0</td>\n",
              "    </tr>\n",
              "    <tr>\n",
              "      <th>1</th>\n",
              "      <td>2011-11-24</td>\n",
              "      <td>9.670833</td>\n",
              "      <td>8.041667</td>\n",
              "      <td>90.112500</td>\n",
              "      <td>6.1</td>\n",
              "      <td>74.5</td>\n",
              "      <td>13.6</td>\n",
              "      <td>2</td>\n",
              "      <td>8.426043</td>\n",
              "      <td>7.4890</td>\n",
              "      <td>6.219456</td>\n",
              "      <td>3</td>\n",
              "      <td>0</td>\n",
              "    </tr>\n",
              "    <tr>\n",
              "      <th>2</th>\n",
              "      <td>2011-11-25</td>\n",
              "      <td>10.541667</td>\n",
              "      <td>6.891667</td>\n",
              "      <td>78.779167</td>\n",
              "      <td>6.1</td>\n",
              "      <td>59.8</td>\n",
              "      <td>13.0</td>\n",
              "      <td>2</td>\n",
              "      <td>9.350267</td>\n",
              "      <td>8.7385</td>\n",
              "      <td>6.377867</td>\n",
              "      <td>4</td>\n",
              "      <td>0</td>\n",
              "    </tr>\n",
              "    <tr>\n",
              "      <th>3</th>\n",
              "      <td>2011-11-26</td>\n",
              "      <td>9.416667</td>\n",
              "      <td>6.333333</td>\n",
              "      <td>81.745833</td>\n",
              "      <td>4.3</td>\n",
              "      <td>66.9</td>\n",
              "      <td>12.9</td>\n",
              "      <td>0</td>\n",
              "      <td>10.255256</td>\n",
              "      <td>9.4770</td>\n",
              "      <td>6.689567</td>\n",
              "      <td>5</td>\n",
              "      <td>0</td>\n",
              "    </tr>\n",
              "    <tr>\n",
              "      <th>4</th>\n",
              "      <td>2011-11-27</td>\n",
              "      <td>9.904167</td>\n",
              "      <td>5.004167</td>\n",
              "      <td>73.425000</td>\n",
              "      <td>0.5</td>\n",
              "      <td>46.8</td>\n",
              "      <td>13.9</td>\n",
              "      <td>0</td>\n",
              "      <td>10.946154</td>\n",
              "      <td>9.8030</td>\n",
              "      <td>7.351755</td>\n",
              "      <td>6</td>\n",
              "      <td>0</td>\n",
              "    </tr>\n",
              "  </tbody>\n",
              "</table>\n",
              "</div>"
            ],
            "text/plain": [
              "         date  air_temperature_mean  dewpoint_mean  rltv_hum_mean  \\\n",
              "0  2011-11-23              5.925000       5.208333      95.250000   \n",
              "1  2011-11-24              9.670833       8.041667      90.112500   \n",
              "2  2011-11-25             10.541667       6.891667      78.779167   \n",
              "3  2011-11-26              9.416667       6.333333      81.745833   \n",
              "4  2011-11-27              9.904167       5.004167      73.425000   \n",
              "\n",
              "   air_temperature_min  rltv_hum_min  air_temperature_max  prcp_count  \\\n",
              "0                  2.4          82.3                 10.6           0   \n",
              "1                  6.1          74.5                 13.6           2   \n",
              "2                  6.1          59.8                 13.0           2   \n",
              "3                  4.3          66.9                 12.9           0   \n",
              "4                  0.5          46.8                 13.9           0   \n",
              "\n",
              "   mean_consumption  median_consumption  std_consumption  day  holiday  \n",
              "0          7.063833              6.2460         5.373299    2        0  \n",
              "1          8.426043              7.4890         6.219456    3        0  \n",
              "2          9.350267              8.7385         6.377867    4        0  \n",
              "3         10.255256              9.4770         6.689567    5        0  \n",
              "4         10.946154              9.8030         7.351755    6        0  "
            ]
          },
          "execution_count": 2,
          "metadata": {},
          "output_type": "execute_result"
        }
      ],
      "source": [
        "import pandas as pd\n",
        "df = pd.read_csv(\"../data/processed data/processed_data.csv\")\n",
        "df.head()"
      ]
    },
    {
      "cell_type": "code",
      "execution_count": 1,
      "metadata": {
        "id": "xmeup9zJrpLN"
      },
      "outputs": [
        {
          "ename": "NameError",
          "evalue": "name 'pd' is not defined",
          "output_type": "error",
          "traceback": [
            "\u001b[1;31m---------------------------------------------------------------------------\u001b[0m",
            "\u001b[1;31mNameError\u001b[0m                                 Traceback (most recent call last)",
            "Cell \u001b[1;32mIn[1], line 1\u001b[0m\n\u001b[1;32m----> 1\u001b[0m df[\u001b[38;5;124m'\u001b[39m\u001b[38;5;124mdate\u001b[39m\u001b[38;5;124m'\u001b[39m] \u001b[38;5;241m=\u001b[39m \u001b[43mpd\u001b[49m\u001b[38;5;241m.\u001b[39mto_datetime(df[\u001b[38;5;124m'\u001b[39m\u001b[38;5;124mdate\u001b[39m\u001b[38;5;124m'\u001b[39m])\n",
            "\u001b[1;31mNameError\u001b[0m: name 'pd' is not defined"
          ]
        }
      ],
      "source": [
        "df['date'] = pd.to_datetime(df['date'])"
      ]
    },
    {
      "cell_type": "markdown",
      "metadata": {
        "id": "YbuqH3ZOufpH"
      },
      "source": [
        "# Data Preprocessing"
      ]
    },
    {
      "cell_type": "code",
      "execution_count": null,
      "metadata": {
        "colab": {
          "base_uri": "https://localhost:8080/",
          "height": 313
        },
        "id": "tZ4XWucxsGO9",
        "outputId": "ec8b98db-172e-4a6e-d35e-51b27e4148e7"
      },
      "outputs": [
        {
          "data": {
            "text/html": [
              "<div>\n",
              "<style scoped>\n",
              "    .dataframe tbody tr th:only-of-type {\n",
              "        vertical-align: middle;\n",
              "    }\n",
              "\n",
              "    .dataframe tbody tr th {\n",
              "        vertical-align: top;\n",
              "    }\n",
              "\n",
              "    .dataframe thead th {\n",
              "        text-align: right;\n",
              "    }\n",
              "</style>\n",
              "<table border=\"1\" class=\"dataframe\">\n",
              "  <thead>\n",
              "    <tr style=\"text-align: right;\">\n",
              "      <th></th>\n",
              "      <th>date</th>\n",
              "      <th>air_temperature_mean</th>\n",
              "      <th>dewpoint_mean</th>\n",
              "      <th>rltv_hum_mean</th>\n",
              "      <th>air_temperature_min</th>\n",
              "      <th>rltv_hum_min</th>\n",
              "      <th>air_temperature_max</th>\n",
              "      <th>prcp_count</th>\n",
              "      <th>mean_consumption</th>\n",
              "      <th>median_consumption</th>\n",
              "      <th>std_consumption</th>\n",
              "      <th>day</th>\n",
              "      <th>holiday</th>\n",
              "      <th>month_sin</th>\n",
              "      <th>month_cos</th>\n",
              "      <th>day_of_week_sin</th>\n",
              "      <th>day_of_week_cos</th>\n",
              "    </tr>\n",
              "  </thead>\n",
              "  <tbody>\n",
              "    <tr>\n",
              "      <th>0</th>\n",
              "      <td>2011-11-23</td>\n",
              "      <td>5.925000</td>\n",
              "      <td>5.208333</td>\n",
              "      <td>95.250000</td>\n",
              "      <td>2.4</td>\n",
              "      <td>82.3</td>\n",
              "      <td>10.6</td>\n",
              "      <td>0</td>\n",
              "      <td>7.063833</td>\n",
              "      <td>6.2460</td>\n",
              "      <td>5.373299</td>\n",
              "      <td>2</td>\n",
              "      <td>0</td>\n",
              "      <td>-0.5</td>\n",
              "      <td>0.866025</td>\n",
              "      <td>0.974928</td>\n",
              "      <td>-0.222521</td>\n",
              "    </tr>\n",
              "    <tr>\n",
              "      <th>1</th>\n",
              "      <td>2011-11-24</td>\n",
              "      <td>9.670833</td>\n",
              "      <td>8.041667</td>\n",
              "      <td>90.112500</td>\n",
              "      <td>6.1</td>\n",
              "      <td>74.5</td>\n",
              "      <td>13.6</td>\n",
              "      <td>2</td>\n",
              "      <td>8.426043</td>\n",
              "      <td>7.4890</td>\n",
              "      <td>6.219456</td>\n",
              "      <td>3</td>\n",
              "      <td>0</td>\n",
              "      <td>-0.5</td>\n",
              "      <td>0.866025</td>\n",
              "      <td>0.433884</td>\n",
              "      <td>-0.900969</td>\n",
              "    </tr>\n",
              "    <tr>\n",
              "      <th>2</th>\n",
              "      <td>2011-11-25</td>\n",
              "      <td>10.541667</td>\n",
              "      <td>6.891667</td>\n",
              "      <td>78.779167</td>\n",
              "      <td>6.1</td>\n",
              "      <td>59.8</td>\n",
              "      <td>13.0</td>\n",
              "      <td>2</td>\n",
              "      <td>9.350267</td>\n",
              "      <td>8.7385</td>\n",
              "      <td>6.377867</td>\n",
              "      <td>4</td>\n",
              "      <td>0</td>\n",
              "      <td>-0.5</td>\n",
              "      <td>0.866025</td>\n",
              "      <td>-0.433884</td>\n",
              "      <td>-0.900969</td>\n",
              "    </tr>\n",
              "    <tr>\n",
              "      <th>3</th>\n",
              "      <td>2011-11-26</td>\n",
              "      <td>9.416667</td>\n",
              "      <td>6.333333</td>\n",
              "      <td>81.745833</td>\n",
              "      <td>4.3</td>\n",
              "      <td>66.9</td>\n",
              "      <td>12.9</td>\n",
              "      <td>0</td>\n",
              "      <td>10.255256</td>\n",
              "      <td>9.4770</td>\n",
              "      <td>6.689567</td>\n",
              "      <td>5</td>\n",
              "      <td>0</td>\n",
              "      <td>-0.5</td>\n",
              "      <td>0.866025</td>\n",
              "      <td>-0.974928</td>\n",
              "      <td>-0.222521</td>\n",
              "    </tr>\n",
              "    <tr>\n",
              "      <th>4</th>\n",
              "      <td>2011-11-27</td>\n",
              "      <td>9.904167</td>\n",
              "      <td>5.004167</td>\n",
              "      <td>73.425000</td>\n",
              "      <td>0.5</td>\n",
              "      <td>46.8</td>\n",
              "      <td>13.9</td>\n",
              "      <td>0</td>\n",
              "      <td>10.946154</td>\n",
              "      <td>9.8030</td>\n",
              "      <td>7.351755</td>\n",
              "      <td>6</td>\n",
              "      <td>0</td>\n",
              "      <td>-0.5</td>\n",
              "      <td>0.866025</td>\n",
              "      <td>-0.781831</td>\n",
              "      <td>0.623490</td>\n",
              "    </tr>\n",
              "  </tbody>\n",
              "</table>\n",
              "</div>"
            ],
            "text/plain": [
              "        date  air_temperature_mean  dewpoint_mean  rltv_hum_mean  \\\n",
              "0 2011-11-23              5.925000       5.208333      95.250000   \n",
              "1 2011-11-24              9.670833       8.041667      90.112500   \n",
              "2 2011-11-25             10.541667       6.891667      78.779167   \n",
              "3 2011-11-26              9.416667       6.333333      81.745833   \n",
              "4 2011-11-27              9.904167       5.004167      73.425000   \n",
              "\n",
              "   air_temperature_min  rltv_hum_min  air_temperature_max  prcp_count  \\\n",
              "0                  2.4          82.3                 10.6           0   \n",
              "1                  6.1          74.5                 13.6           2   \n",
              "2                  6.1          59.8                 13.0           2   \n",
              "3                  4.3          66.9                 12.9           0   \n",
              "4                  0.5          46.8                 13.9           0   \n",
              "\n",
              "   mean_consumption  median_consumption  std_consumption  day  holiday  \\\n",
              "0          7.063833              6.2460         5.373299    2        0   \n",
              "1          8.426043              7.4890         6.219456    3        0   \n",
              "2          9.350267              8.7385         6.377867    4        0   \n",
              "3         10.255256              9.4770         6.689567    5        0   \n",
              "4         10.946154              9.8030         7.351755    6        0   \n",
              "\n",
              "   month_sin  month_cos  day_of_week_sin  day_of_week_cos  \n",
              "0       -0.5   0.866025         0.974928        -0.222521  \n",
              "1       -0.5   0.866025         0.433884        -0.900969  \n",
              "2       -0.5   0.866025        -0.433884        -0.900969  \n",
              "3       -0.5   0.866025        -0.974928        -0.222521  \n",
              "4       -0.5   0.866025        -0.781831         0.623490  "
            ]
          },
          "execution_count": 4,
          "metadata": {},
          "output_type": "execute_result"
        }
      ],
      "source": [
        "import numpy as np\n",
        "\n",
        "class CyclicDateEncoder:\n",
        "    def __init__(self, date_column='date'):\n",
        "        self.date_column = date_column\n",
        "\n",
        "    def _cyclic_encode(self, values, max_value):\n",
        "        \"\"\"\n",
        "        Generates sine and cosine encoding for cyclic values.\n",
        "        \"\"\"\n",
        "        sin_values = np.sin(2 * np.pi * values / max_value)\n",
        "        cos_values = np.cos(2 * np.pi * values / max_value)\n",
        "        return sin_values, cos_values\n",
        "\n",
        "    def add_cyclic_features(self, df):\n",
        "        \"\"\"\n",
        "        Adds cyclic encoding columns for month, day of month, and day of week.\n",
        "        \"\"\"\n",
        "        # Extract date parts\n",
        "        df['day_of_month'] = df[self.date_column].dt.day\n",
        "        df['month'] = df[self.date_column].dt.month\n",
        "        df['day_of_week'] = df[self.date_column].dt.weekday\n",
        "\n",
        "        # Cyclic encoding\n",
        "        df['month_sin'], df['month_cos'] = self._cyclic_encode(df['month'], 12)\n",
        "        df['day_of_week_sin'], df['day_of_week_cos'] = self._cyclic_encode(df['day_of_week'], 7)\n",
        "\n",
        "        # Optionally, drop the intermediate columns if you only want sin/cos\n",
        "        df.drop(columns=['month', 'day_of_month', 'day_of_week'], inplace=True)\n",
        "\n",
        "        return df\n",
        "\n",
        "encoder = CyclicDateEncoder(date_column='date')\n",
        "df = encoder.add_cyclic_features(df)\n",
        "\n",
        "df.head()"
      ]
    },
    {
      "cell_type": "code",
      "execution_count": null,
      "metadata": {
        "id": "sPm8BLtwtRwg"
      },
      "outputs": [],
      "source": [
        "drop_cols = [\"day\", \"date\"]\n",
        "df.drop(columns=['date'], inplace=True)"
      ]
    },
    {
      "cell_type": "code",
      "execution_count": null,
      "metadata": {
        "colab": {
          "base_uri": "https://localhost:8080/"
        },
        "id": "X1UqB8bEtiO7",
        "outputId": "74f8a549-b7b6-4fa8-bedc-ea67848f5f9d"
      },
      "outputs": [
        {
          "data": {
            "text/plain": [
              "Index(['air_temperature_mean', 'dewpoint_mean', 'rltv_hum_mean',\n",
              "       'air_temperature_min', 'rltv_hum_min', 'air_temperature_max',\n",
              "       'prcp_count', 'mean_consumption', 'median_consumption',\n",
              "       'std_consumption', 'day', 'holiday', 'month_sin', 'month_cos',\n",
              "       'day_of_week_sin', 'day_of_week_cos'],\n",
              "      dtype='object')"
            ]
          },
          "execution_count": 6,
          "metadata": {},
          "output_type": "execute_result"
        }
      ],
      "source": [
        "df.columns"
      ]
    },
    {
      "cell_type": "code",
      "execution_count": null,
      "metadata": {
        "colab": {
          "base_uri": "https://localhost:8080/",
          "height": 226
        },
        "id": "IYLcQV1ltYBY",
        "outputId": "9234c99e-b7be-465f-a294-fa03cc0b62d1"
      },
      "outputs": [
        {
          "data": {
            "text/html": [
              "<div>\n",
              "<style scoped>\n",
              "    .dataframe tbody tr th:only-of-type {\n",
              "        vertical-align: middle;\n",
              "    }\n",
              "\n",
              "    .dataframe tbody tr th {\n",
              "        vertical-align: top;\n",
              "    }\n",
              "\n",
              "    .dataframe thead th {\n",
              "        text-align: right;\n",
              "    }\n",
              "</style>\n",
              "<table border=\"1\" class=\"dataframe\">\n",
              "  <thead>\n",
              "    <tr style=\"text-align: right;\">\n",
              "      <th></th>\n",
              "      <th>air_temperature_mean</th>\n",
              "      <th>dewpoint_mean</th>\n",
              "      <th>rltv_hum_mean</th>\n",
              "      <th>air_temperature_min</th>\n",
              "      <th>rltv_hum_min</th>\n",
              "      <th>air_temperature_max</th>\n",
              "      <th>prcp_count</th>\n",
              "      <th>mean_consumption</th>\n",
              "      <th>median_consumption</th>\n",
              "      <th>std_consumption</th>\n",
              "      <th>day</th>\n",
              "      <th>holiday</th>\n",
              "      <th>month_sin</th>\n",
              "      <th>month_cos</th>\n",
              "      <th>day_of_week_sin</th>\n",
              "      <th>day_of_week_cos</th>\n",
              "    </tr>\n",
              "  </thead>\n",
              "  <tbody>\n",
              "    <tr>\n",
              "      <th>0</th>\n",
              "      <td>5.925000</td>\n",
              "      <td>5.208333</td>\n",
              "      <td>95.250000</td>\n",
              "      <td>2.4</td>\n",
              "      <td>82.3</td>\n",
              "      <td>10.6</td>\n",
              "      <td>0</td>\n",
              "      <td>7.063833</td>\n",
              "      <td>6.2460</td>\n",
              "      <td>5.373299</td>\n",
              "      <td>2</td>\n",
              "      <td>0</td>\n",
              "      <td>-0.5</td>\n",
              "      <td>0.866025</td>\n",
              "      <td>0.974928</td>\n",
              "      <td>-0.222521</td>\n",
              "    </tr>\n",
              "    <tr>\n",
              "      <th>1</th>\n",
              "      <td>9.670833</td>\n",
              "      <td>8.041667</td>\n",
              "      <td>90.112500</td>\n",
              "      <td>6.1</td>\n",
              "      <td>74.5</td>\n",
              "      <td>13.6</td>\n",
              "      <td>2</td>\n",
              "      <td>8.426043</td>\n",
              "      <td>7.4890</td>\n",
              "      <td>6.219456</td>\n",
              "      <td>3</td>\n",
              "      <td>0</td>\n",
              "      <td>-0.5</td>\n",
              "      <td>0.866025</td>\n",
              "      <td>0.433884</td>\n",
              "      <td>-0.900969</td>\n",
              "    </tr>\n",
              "    <tr>\n",
              "      <th>2</th>\n",
              "      <td>10.541667</td>\n",
              "      <td>6.891667</td>\n",
              "      <td>78.779167</td>\n",
              "      <td>6.1</td>\n",
              "      <td>59.8</td>\n",
              "      <td>13.0</td>\n",
              "      <td>2</td>\n",
              "      <td>9.350267</td>\n",
              "      <td>8.7385</td>\n",
              "      <td>6.377867</td>\n",
              "      <td>4</td>\n",
              "      <td>0</td>\n",
              "      <td>-0.5</td>\n",
              "      <td>0.866025</td>\n",
              "      <td>-0.433884</td>\n",
              "      <td>-0.900969</td>\n",
              "    </tr>\n",
              "    <tr>\n",
              "      <th>3</th>\n",
              "      <td>9.416667</td>\n",
              "      <td>6.333333</td>\n",
              "      <td>81.745833</td>\n",
              "      <td>4.3</td>\n",
              "      <td>66.9</td>\n",
              "      <td>12.9</td>\n",
              "      <td>0</td>\n",
              "      <td>10.255256</td>\n",
              "      <td>9.4770</td>\n",
              "      <td>6.689567</td>\n",
              "      <td>5</td>\n",
              "      <td>0</td>\n",
              "      <td>-0.5</td>\n",
              "      <td>0.866025</td>\n",
              "      <td>-0.974928</td>\n",
              "      <td>-0.222521</td>\n",
              "    </tr>\n",
              "    <tr>\n",
              "      <th>4</th>\n",
              "      <td>9.904167</td>\n",
              "      <td>5.004167</td>\n",
              "      <td>73.425000</td>\n",
              "      <td>0.5</td>\n",
              "      <td>46.8</td>\n",
              "      <td>13.9</td>\n",
              "      <td>0</td>\n",
              "      <td>10.946154</td>\n",
              "      <td>9.8030</td>\n",
              "      <td>7.351755</td>\n",
              "      <td>6</td>\n",
              "      <td>0</td>\n",
              "      <td>-0.5</td>\n",
              "      <td>0.866025</td>\n",
              "      <td>-0.781831</td>\n",
              "      <td>0.623490</td>\n",
              "    </tr>\n",
              "  </tbody>\n",
              "</table>\n",
              "</div>"
            ],
            "text/plain": [
              "   air_temperature_mean  dewpoint_mean  rltv_hum_mean  air_temperature_min  \\\n",
              "0              5.925000       5.208333      95.250000                  2.4   \n",
              "1              9.670833       8.041667      90.112500                  6.1   \n",
              "2             10.541667       6.891667      78.779167                  6.1   \n",
              "3              9.416667       6.333333      81.745833                  4.3   \n",
              "4              9.904167       5.004167      73.425000                  0.5   \n",
              "\n",
              "   rltv_hum_min  air_temperature_max  prcp_count  mean_consumption  \\\n",
              "0          82.3                 10.6           0          7.063833   \n",
              "1          74.5                 13.6           2          8.426043   \n",
              "2          59.8                 13.0           2          9.350267   \n",
              "3          66.9                 12.9           0         10.255256   \n",
              "4          46.8                 13.9           0         10.946154   \n",
              "\n",
              "   median_consumption  std_consumption  day  holiday  month_sin  month_cos  \\\n",
              "0              6.2460         5.373299    2        0       -0.5   0.866025   \n",
              "1              7.4890         6.219456    3        0       -0.5   0.866025   \n",
              "2              8.7385         6.377867    4        0       -0.5   0.866025   \n",
              "3              9.4770         6.689567    5        0       -0.5   0.866025   \n",
              "4              9.8030         7.351755    6        0       -0.5   0.866025   \n",
              "\n",
              "   day_of_week_sin  day_of_week_cos  \n",
              "0         0.974928        -0.222521  \n",
              "1         0.433884        -0.900969  \n",
              "2        -0.433884        -0.900969  \n",
              "3        -0.974928        -0.222521  \n",
              "4        -0.781831         0.623490  "
            ]
          },
          "execution_count": 7,
          "metadata": {},
          "output_type": "execute_result"
        }
      ],
      "source": [
        "df.head()"
      ]
    },
    {
      "cell_type": "code",
      "execution_count": null,
      "metadata": {
        "colab": {
          "base_uri": "https://localhost:8080/",
          "height": 143
        },
        "id": "vccN9hRqta4i",
        "outputId": "605a7982-6b05-4651-b216-95812d5b5959"
      },
      "outputs": [
        {
          "data": {
            "text/html": [
              "<div>\n",
              "<style scoped>\n",
              "    .dataframe tbody tr th:only-of-type {\n",
              "        vertical-align: middle;\n",
              "    }\n",
              "\n",
              "    .dataframe tbody tr th {\n",
              "        vertical-align: top;\n",
              "    }\n",
              "\n",
              "    .dataframe thead th {\n",
              "        text-align: right;\n",
              "    }\n",
              "</style>\n",
              "<table border=\"1\" class=\"dataframe\">\n",
              "  <thead>\n",
              "    <tr style=\"text-align: right;\">\n",
              "      <th></th>\n",
              "      <th>air_temperature_mean</th>\n",
              "      <th>dewpoint_mean</th>\n",
              "      <th>rltv_hum_mean</th>\n",
              "      <th>air_temperature_min</th>\n",
              "      <th>rltv_hum_min</th>\n",
              "      <th>air_temperature_max</th>\n",
              "      <th>prcp_count</th>\n",
              "      <th>holiday</th>\n",
              "      <th>month_sin</th>\n",
              "      <th>month_cos</th>\n",
              "      <th>day_of_week_sin</th>\n",
              "      <th>day_of_week_cos</th>\n",
              "    </tr>\n",
              "  </thead>\n",
              "  <tbody>\n",
              "    <tr>\n",
              "      <th>0</th>\n",
              "      <td>5.925000</td>\n",
              "      <td>5.208333</td>\n",
              "      <td>95.250000</td>\n",
              "      <td>2.4</td>\n",
              "      <td>82.3</td>\n",
              "      <td>10.6</td>\n",
              "      <td>0</td>\n",
              "      <td>0</td>\n",
              "      <td>-0.5</td>\n",
              "      <td>0.866025</td>\n",
              "      <td>0.974928</td>\n",
              "      <td>-0.222521</td>\n",
              "    </tr>\n",
              "    <tr>\n",
              "      <th>1</th>\n",
              "      <td>9.670833</td>\n",
              "      <td>8.041667</td>\n",
              "      <td>90.112500</td>\n",
              "      <td>6.1</td>\n",
              "      <td>74.5</td>\n",
              "      <td>13.6</td>\n",
              "      <td>2</td>\n",
              "      <td>0</td>\n",
              "      <td>-0.5</td>\n",
              "      <td>0.866025</td>\n",
              "      <td>0.433884</td>\n",
              "      <td>-0.900969</td>\n",
              "    </tr>\n",
              "    <tr>\n",
              "      <th>2</th>\n",
              "      <td>10.541667</td>\n",
              "      <td>6.891667</td>\n",
              "      <td>78.779167</td>\n",
              "      <td>6.1</td>\n",
              "      <td>59.8</td>\n",
              "      <td>13.0</td>\n",
              "      <td>2</td>\n",
              "      <td>0</td>\n",
              "      <td>-0.5</td>\n",
              "      <td>0.866025</td>\n",
              "      <td>-0.433884</td>\n",
              "      <td>-0.900969</td>\n",
              "    </tr>\n",
              "  </tbody>\n",
              "</table>\n",
              "</div>"
            ],
            "text/plain": [
              "   air_temperature_mean  dewpoint_mean  rltv_hum_mean  air_temperature_min  \\\n",
              "0              5.925000       5.208333      95.250000                  2.4   \n",
              "1              9.670833       8.041667      90.112500                  6.1   \n",
              "2             10.541667       6.891667      78.779167                  6.1   \n",
              "\n",
              "   rltv_hum_min  air_temperature_max  prcp_count  holiday  month_sin  \\\n",
              "0          82.3                 10.6           0        0       -0.5   \n",
              "1          74.5                 13.6           2        0       -0.5   \n",
              "2          59.8                 13.0           2        0       -0.5   \n",
              "\n",
              "   month_cos  day_of_week_sin  day_of_week_cos  \n",
              "0   0.866025         0.974928        -0.222521  \n",
              "1   0.866025         0.433884        -0.900969  \n",
              "2   0.866025        -0.433884        -0.900969  "
            ]
          },
          "execution_count": 8,
          "metadata": {},
          "output_type": "execute_result"
        }
      ],
      "source": [
        "# extracting the features only\n",
        "features = ['air_temperature_mean', 'dewpoint_mean', 'rltv_hum_mean',\n",
        "       'air_temperature_min', 'rltv_hum_min', 'air_temperature_max',\n",
        "       'prcp_count', 'holiday', 'month_sin',\n",
        "       'month_cos', 'day_of_week_sin', 'day_of_week_cos']\n",
        "features_df = df[features]\n",
        "features_df.head(3)"
      ]
    },
    {
      "cell_type": "code",
      "execution_count": null,
      "metadata": {
        "colab": {
          "base_uri": "https://localhost:8080/",
          "height": 143
        },
        "id": "0q8qLhIIuNqU",
        "outputId": "b5356aa8-29ef-453d-fd6f-b22a1931b7f6"
      },
      "outputs": [
        {
          "data": {
            "text/html": [
              "<div>\n",
              "<style scoped>\n",
              "    .dataframe tbody tr th:only-of-type {\n",
              "        vertical-align: middle;\n",
              "    }\n",
              "\n",
              "    .dataframe tbody tr th {\n",
              "        vertical-align: top;\n",
              "    }\n",
              "\n",
              "    .dataframe thead th {\n",
              "        text-align: right;\n",
              "    }\n",
              "</style>\n",
              "<table border=\"1\" class=\"dataframe\">\n",
              "  <thead>\n",
              "    <tr style=\"text-align: right;\">\n",
              "      <th></th>\n",
              "      <th>mean_consumption</th>\n",
              "      <th>median_consumption</th>\n",
              "      <th>std_consumption</th>\n",
              "    </tr>\n",
              "  </thead>\n",
              "  <tbody>\n",
              "    <tr>\n",
              "      <th>0</th>\n",
              "      <td>7.063833</td>\n",
              "      <td>6.2460</td>\n",
              "      <td>5.373299</td>\n",
              "    </tr>\n",
              "    <tr>\n",
              "      <th>1</th>\n",
              "      <td>8.426043</td>\n",
              "      <td>7.4890</td>\n",
              "      <td>6.219456</td>\n",
              "    </tr>\n",
              "    <tr>\n",
              "      <th>2</th>\n",
              "      <td>9.350267</td>\n",
              "      <td>8.7385</td>\n",
              "      <td>6.377867</td>\n",
              "    </tr>\n",
              "  </tbody>\n",
              "</table>\n",
              "</div>"
            ],
            "text/plain": [
              "   mean_consumption  median_consumption  std_consumption\n",
              "0          7.063833              6.2460         5.373299\n",
              "1          8.426043              7.4890         6.219456\n",
              "2          9.350267              8.7385         6.377867"
            ]
          },
          "execution_count": 9,
          "metadata": {},
          "output_type": "execute_result"
        }
      ],
      "source": [
        "# extracting the targets\n",
        "target = ['mean_consumption', 'median_consumption',\n",
        "       'std_consumption']\n",
        "target_df = df[target]\n",
        "target_df.head(3)"
      ]
    },
    {
      "cell_type": "code",
      "execution_count": null,
      "metadata": {
        "colab": {
          "base_uri": "https://localhost:8080/"
        },
        "id": "O93nhy6huXli",
        "outputId": "b6a5ad78-7df1-4bd8-caf3-bce0c8a12189"
      },
      "outputs": [
        {
          "data": {
            "text/plain": [
              "(827, 827)"
            ]
          },
          "execution_count": 10,
          "metadata": {},
          "output_type": "execute_result"
        }
      ],
      "source": [
        "len(target_df), len(features_df)"
      ]
    },
    {
      "cell_type": "code",
      "execution_count": null,
      "metadata": {
        "id": "3cFDOpLx08CS"
      },
      "outputs": [],
      "source": [
        "# experiment with one target only\n",
        "one_target_df= target_df[\"mean_consumption\"]"
      ]
    },
    {
      "cell_type": "markdown",
      "metadata": {
        "id": "obN8Gmbguivy"
      },
      "source": [
        "# Model Training"
      ]
    },
    {
      "cell_type": "code",
      "execution_count": null,
      "metadata": {},
      "outputs": [],
      "source": [
        "# 1. XGBOOST model"
      ]
    },
    {
      "cell_type": "markdown",
      "metadata": {
        "id": "Q9LWcOiu7kZ3"
      },
      "source": [
        "## Single output"
      ]
    },
    {
      "cell_type": "code",
      "execution_count": null,
      "metadata": {
        "id": "EjexdxWd3shX"
      },
      "outputs": [
        {
          "name": "stdout",
          "output_type": "stream",
          "text": [
            "Requirement already satisfied: xgboost in c:\\users\\bhatt\\appdata\\local\\programs\\python\\python313\\lib\\site-packages (2.1.4)\n",
            "Requirement already satisfied: numpy in c:\\users\\bhatt\\appdata\\local\\programs\\python\\python313\\lib\\site-packages (from xgboost) (2.2.2)\n",
            "Requirement already satisfied: scipy in c:\\users\\bhatt\\appdata\\local\\programs\\python\\python313\\lib\\site-packages (from xgboost) (1.15.1)\n"
          ]
        },
        {
          "name": "stderr",
          "output_type": "stream",
          "text": [
            "\n",
            "[notice] A new release of pip is available: 25.0 -> 25.0.1\n",
            "[notice] To update, run: python.exe -m pip install --upgrade pip\n"
          ]
        }
      ],
      "source": [
        "!pip install xgboost"
      ]
    },
    {
      "cell_type": "code",
      "execution_count": null,
      "metadata": {
        "id": "aQW9WAkkzZLv"
      },
      "outputs": [],
      "source": [
        "from sklearn.model_selection import cross_val_score\n",
        "from xgboost import XGBRegressor\n",
        "import matplotlib.pyplot as plt\n",
        "\n",
        "model = XGBRegressor(eta = 0.1, gamma = 4)"
      ]
    },
    {
      "cell_type": "code",
      "execution_count": null,
      "metadata": {},
      "outputs": [],
      "source": [
        "def check_model(model, X_train=X_train, y_train=y_train, X_test = X_test, y_test = y_test, features= features_df, target=one_target_df, cv=5):\n",
        "    cv_scores = cross_val_score(model, features_df, target, cv=5, scoring='neg_mean_squared_error')\n",
        "    print(\"Cross-validation scores (negative MSE):\", cv_scores)\n",
        "    print(\"Mean MSE across all folds:\", -cv_scores.mean())\n",
        "    model.fit(X_train, y_train)\n",
        "    prediction = model.predict(X_test)\n",
        "    plt.scatter(y_test, prediction)\n",
        "    plt.xlabel(\"actual\")\n",
        "    plt.ylabel(\"XGBOOST prediction\")\n",
        "    plt.grid(alpha=0.1)\n",
        "    plt.show();"
      ]
    },
    {
      "cell_type": "code",
      "execution_count": null,
      "metadata": {},
      "outputs": [],
      "source": [
        "model = XGBRegressor(eta = 0.1, gamma = 4)\n",
        "check_model(model=model, cv=5)"
      ]
    },
    {
      "cell_type": "code",
      "execution_count": null,
      "metadata": {},
      "outputs": [],
      "source": [
        "# Linear Regression"
      ]
    },
    {
      "cell_type": "code",
      "execution_count": null,
      "metadata": {},
      "outputs": [],
      "source": [
        "from sklearn.linear_model import LinearRegression\n",
        "\n",
        "lr_model = LinearRegression()\n",
        "\n",
        "check_model(model=lr_model)"
      ]
    },
    {
      "cell_type": "code",
      "execution_count": null,
      "metadata": {},
      "outputs": [],
      "source": [
        "# Polynomial Regression"
      ]
    },
    {
      "cell_type": "code",
      "execution_count": null,
      "metadata": {},
      "outputs": [],
      "source": [
        "from sklearn.preprocessing import PolynomialFeatures\n",
        "lr2_model = LinearRegression()\n",
        "pr_model = PolynomialFeatures(degree=4)"
      ]
    },
    {
      "cell_type": "code",
      "execution_count": null,
      "metadata": {},
      "outputs": [],
      "source": [
        "X_train_poly = pr_model.fit_transform(X_train)\n",
        "features_poly = pr_model.fit_transform(features_df)\n",
        "X_test_poly = pr_model.fit_transform(X_test)\n",
        "lr2_model = LinearRegression()"
      ]
    },
    {
      "cell_type": "markdown",
      "metadata": {
        "id": "Ri5InyTk_NgD"
      },
      "source": [
        "# Conclusion"
      ]
    },
    {
      "cell_type": "code",
      "execution_count": null,
      "metadata": {
        "id": "HCXIKd7s_RAP"
      },
      "outputs": [],
      "source": [
        "# The XGBOOST multi output model pereformed well on baseline, which further needs tuning"
      ]
    }
  ],
  "metadata": {
    "colab": {
      "provenance": []
    },
    "kernelspec": {
      "display_name": "Python 3",
      "name": "python3"
    },
    "language_info": {
      "codemirror_mode": {
        "name": "ipython",
        "version": 3
      },
      "file_extension": ".py",
      "mimetype": "text/x-python",
      "name": "python",
      "nbconvert_exporter": "python",
      "pygments_lexer": "ipython3",
      "version": "3.13.1"
    }
  },
  "nbformat": 4,
  "nbformat_minor": 0
}
